{
 "cells": [
  {
   "cell_type": "markdown",
   "id": "e2ef3039-48c8-44f6-816a-3b5e5e0a77a7",
   "metadata": {},
   "source": [
    "# Walkthroughs and Exercises for GenAi-Powered Data Analysis in Python\n",
    "\n",
    "Dr. Chester Ismay\n",
    "\n",
    "# Data Analytics Kickoff + Course Goals\n",
    "\n",
    "## Walkthrough #1: Setting Up the Python Environment\n",
    "\n",
    "If you haven’t already installed Python, Jupyter, and the necessary\n",
    "packages, there are instructions on the course repo in the README to do\n",
    "so\n",
    "[here](https://github.com/ismayc/oreilly-genai-powered-data-analysis-with-python/blob/main/README.md).\n",
    "\n",
    "If you aren’t able to do this on your machine, you may want to check out\n",
    "[Google Colab](https://colab.research.google.com/). It’s a free service\n",
    "that allows you to run Jupyter notebooks in the cloud."
   ]
  },
  {
   "cell_type": "code",
   "execution_count": null,
   "id": "2f3a2ad9",
   "metadata": {},
   "outputs": [],
   "source": [
    "import pandas as pd\n",
    "import matplotlib.pyplot as plt\n",
    "import seaborn as sns\n",
    "import plotly.express as px\n",
    "import plotly.graph_objects as go\n",
    "from plotly.subplots import make_subplots"
   ]
  },
  {
   "cell_type": "code",
   "execution_count": null,
   "id": "0f62ea76",
   "metadata": {},
   "outputs": [],
   "source": [
    "# For plotly to load directly in Jupyter notebook\n",
    "import plotly.offline as pyo\n",
    "pyo.init_notebook_mode(connected=True)"
   ]
  },
  {
   "cell_type": "markdown",
   "id": "40809acc-5353-4d61-8616-8ecae191636c",
   "metadata": {},
   "source": [
    "## Exercise #1: Setting Up the Python Environment\n",
    "\n",
    "Follow the instructions above in Walkthrough #1 to check for correct\n",
    "installation of necessary packages. We’ll wait a few minutes to make\n",
    "sure as many of you are set up as possible. Please give a thumbs up in\n",
    "the pulse check if you are ready to move on.\n",
    "\n",
    "We’ll work with ChatGPT as our GenAI tool. If you are getting errors at\n",
    "this point and would like to ask it for assistance, go for it! We’ll\n",
    "make more use of it throughout the course, and I’ll give tips along the\n",
    "way too.\n",
    "\n",
    "------------------------------------------------------------------------\n",
    "\n",
    "# *Day 1: Prompt to Wrangle*\n",
    "\n",
    "------------------------------------------------------------------------\n",
    "\n",
    "# Module 1: Data Wrangling with Pandas\n",
    "\n",
    "## Walkthrough #2: Cleaning and Preparing Data with Pandas\n",
    "\n",
    "### Import data from a CSV or from an Excel file"
   ]
  },
  {
   "cell_type": "code",
   "execution_count": null,
   "id": "f4ed138d",
   "metadata": {},
   "outputs": [],
   "source": [
    "# Load the data from a CSV file\n"
   ]
  },
  {
   "cell_type": "markdown",
   "id": "a4e5e3aa-3a07-4079-9a49-f51dcce0f254",
   "metadata": {},
   "source": [
    "### Perform an initial exploration of the data"
   ]
  },
  {
   "cell_type": "code",
   "execution_count": null,
   "id": "e8ac7df4",
   "metadata": {},
   "outputs": [],
   "source": [
    "# Display the first few rows of the DataFrame\n"
   ]
  },
  {
   "cell_type": "code",
   "execution_count": null,
   "id": "6d759dff",
   "metadata": {},
   "outputs": [],
   "source": [
    "# Display the information about the DataFrame\n"
   ]
  },
  {
   "cell_type": "code",
   "execution_count": null,
   "id": "76778c20",
   "metadata": {},
   "outputs": [],
   "source": [
    "# Display summary statistics of the DataFrame\n"
   ]
  },
  {
   "cell_type": "markdown",
   "id": "86855fbb-1293-462c-83f6-3c2c41e8bf77",
   "metadata": {},
   "source": [
    "### Handle missing data\n",
    "\n",
    "#### Remove rows"
   ]
  },
  {
   "cell_type": "code",
   "execution_count": null,
   "id": "e71ba304",
   "metadata": {},
   "outputs": [],
   "source": [
    "# Remove rows with any missing values\n"
   ]
  },
  {
   "cell_type": "code",
   "execution_count": null,
   "id": "88077df9",
   "metadata": {},
   "outputs": [],
   "source": [
    "# Remove rows with missing values in specific columns\n"
   ]
  },
  {
   "cell_type": "markdown",
   "id": "767edec9-9739-4062-bac4-a79cd3ebf197",
   "metadata": {},
   "source": [
    "#### Replace missing values with specific value"
   ]
  },
  {
   "cell_type": "code",
   "execution_count": null,
   "id": "66b98232",
   "metadata": {},
   "outputs": [],
   "source": [
    "# Replace missing values with a specific value (e.g., 0 for numerical columns, 'Unknown' for categorical columns)\n",
    "economies_fill_value = economies.fillna({\n",
    "    'gdp_percapita': 0,\n",
    "    'gross_savings': 0,\n",
    "    'inflation_rate': 0,\n",
    "    'total_investment': 0,\n",
    "    'unemployment_rate': 0,\n",
    "    'exports': 0,\n",
    "    'imports': 0,\n",
    "    'income_group': 'Unknown'\n",
    "})\n",
    "\n",
    "# Display the DataFrame after replacing missing values with specific values\n"
   ]
  },
  {
   "cell_type": "markdown",
   "id": "c84bdf82-49c0-48a6-ad7b-c537ec389dc6",
   "metadata": {},
   "source": [
    "### Convert a column to a different data type"
   ]
  },
  {
   "cell_type": "code",
   "execution_count": null,
   "id": "e76d7555",
   "metadata": {},
   "outputs": [],
   "source": [
    "# Change year to be a string instead of an integer\n",
    "\n",
    "\n",
    "# Display the information on the DataFrame with year as a string\n"
   ]
  },
  {
   "cell_type": "code",
   "execution_count": null,
   "id": "e9f53b81",
   "metadata": {},
   "outputs": [],
   "source": [
    "# Change the year of string type back to integer\n",
    "\n",
    "\n",
    "# Display the information on the DataFrame with year as an integer\n"
   ]
  },
  {
   "cell_type": "markdown",
   "id": "7898a43c-84e4-484a-8cfb-5905036e2778",
   "metadata": {},
   "source": [
    "### Rename a column"
   ]
  },
  {
   "cell_type": "code",
   "execution_count": null,
   "id": "df23e900",
   "metadata": {},
   "outputs": [],
   "source": [
    "# Rename the 'income_group' column to 'income_category'\n"
   ]
  },
  {
   "cell_type": "markdown",
   "id": "97225f93-c9a3-49df-92c3-e1c1889ecf6f",
   "metadata": {},
   "source": [
    "### Filtering rows based on conditions\n",
    "\n",
    "#### Conditions on a single column"
   ]
  },
  {
   "cell_type": "code",
   "execution_count": null,
   "id": "e2061469",
   "metadata": {},
   "outputs": [],
   "source": [
    "# Filter rows where 'gdp_percapita' is greater than 20,000\n"
   ]
  },
  {
   "cell_type": "code",
   "execution_count": null,
   "id": "96fa4d7c",
   "metadata": {},
   "outputs": [],
   "source": [
    "# Filter rows where 'income_group' is 'High income'\n"
   ]
  },
  {
   "cell_type": "markdown",
   "id": "7e0daa30-7bae-4bbe-8a79-135640ca1da0",
   "metadata": {},
   "source": [
    "#### Conditions on multiple columns"
   ]
  },
  {
   "cell_type": "code",
   "execution_count": null,
   "id": "759bcf9d",
   "metadata": {},
   "outputs": [],
   "source": [
    "# Filter rows where inflation_rate is less than 0 and income_group is 'Low income'\n"
   ]
  },
  {
   "cell_type": "markdown",
   "id": "adb51922-ed40-463d-a328-277722fd10c8",
   "metadata": {},
   "source": [
    "## Exercise #2: Cleaning and Preparing Data with Pandas"
   ]
  },
  {
   "cell_type": "code",
   "execution_count": null,
   "id": "e63a56cf",
   "metadata": {},
   "outputs": [],
   "source": [
    "# Load the populations data from a CSV file\n"
   ]
  },
  {
   "cell_type": "code",
   "execution_count": null,
   "id": "e648146d",
   "metadata": {},
   "outputs": [],
   "source": [
    "# Examine the first few rows\n"
   ]
  },
  {
   "cell_type": "code",
   "execution_count": null,
   "id": "f3b8f7d4",
   "metadata": {},
   "outputs": [],
   "source": [
    "# Display the information about the DataFrame\n"
   ]
  },
  {
   "cell_type": "code",
   "execution_count": null,
   "id": "32e549eb",
   "metadata": {},
   "outputs": [],
   "source": [
    "# Display summary statistics of the DataFrame\n"
   ]
  },
  {
   "cell_type": "markdown",
   "id": "c7817d00-90dc-421e-93d9-4033dc22c8e3",
   "metadata": {},
   "source": [
    "### Handle Missing Data\n",
    "\n",
    "#### Remove rows"
   ]
  },
  {
   "cell_type": "code",
   "execution_count": null,
   "id": "b11083d2",
   "metadata": {},
   "outputs": [],
   "source": [
    "# Remove rows with any missing values\n"
   ]
  },
  {
   "cell_type": "code",
   "execution_count": null,
   "id": "85573e15",
   "metadata": {},
   "outputs": [],
   "source": [
    "# Remove rows with missing values in fertility_rate and life_expectancy\n"
   ]
  },
  {
   "cell_type": "markdown",
   "id": "7028e28d-3c7b-436f-ad38-e466f524ed3f",
   "metadata": {},
   "source": [
    "#### Replace missing values with specific value"
   ]
  },
  {
   "cell_type": "code",
   "execution_count": null,
   "id": "c1aad6a3",
   "metadata": {},
   "outputs": [],
   "source": [
    "# Replace missing values with a specific value (e.g., 0 for numerical columns, \n",
    "# 'Unknown' for categorical columns)\n"
   ]
  },
  {
   "cell_type": "markdown",
   "id": "c33f5ee9-8788-4336-8233-099cf14ad2e6",
   "metadata": {},
   "source": [
    "### Convert a Column to a Different Data Type and Rename a Column\n",
    "\n",
    "#### Convert a Column to a Different Data Type"
   ]
  },
  {
   "cell_type": "code",
   "execution_count": null,
   "id": "705ca767",
   "metadata": {},
   "outputs": [],
   "source": [
    "# Convert the 'year' column to string type\n"
   ]
  },
  {
   "cell_type": "code",
   "execution_count": null,
   "id": "9f18f74d",
   "metadata": {},
   "outputs": [],
   "source": [
    "# Convert it back to integer\n"
   ]
  },
  {
   "cell_type": "markdown",
   "id": "c957ca7d-76c7-4d59-9ed6-3ee08b84eea5",
   "metadata": {},
   "source": [
    "#### Rename a Column"
   ]
  },
  {
   "cell_type": "code",
   "execution_count": null,
   "id": "523bc5e8",
   "metadata": {},
   "outputs": [],
   "source": [
    "# Rename the 'fertility_rate' column to 'fertility'\n"
   ]
  },
  {
   "cell_type": "markdown",
   "id": "d61c3769-edc1-4ebf-ab5b-172bee657735",
   "metadata": {},
   "source": [
    "#### Filter a DataFrame"
   ]
  },
  {
   "cell_type": "code",
   "execution_count": null,
   "id": "ed4a380b",
   "metadata": {},
   "outputs": [],
   "source": [
    "# Filter the DataFrame to include only rows where the 'continent' is 'Asia'\n"
   ]
  },
  {
   "cell_type": "code",
   "execution_count": null,
   "id": "6bb1cfb2",
   "metadata": {},
   "outputs": [],
   "source": [
    "# Filter the DataFrame to include only rows where the 'year' is 2020\n"
   ]
  },
  {
   "cell_type": "code",
   "execution_count": null,
   "id": "f812240a",
   "metadata": {},
   "outputs": [],
   "source": [
    "# Filter the DataFrame to include only rows where the \n",
    "# 'fertility_rate' is greater than 2\n"
   ]
  },
  {
   "cell_type": "markdown",
   "id": "8656849a-bbab-45f9-8758-aaadaaecad40",
   "metadata": {},
   "source": [
    "# Module 2: Transforming and Aggregating Data with Pandas\n",
    "\n",
    "## Walkthrough #3: Summarizing Data with Pandas\n",
    "\n",
    "### Grouping data"
   ]
  },
  {
   "cell_type": "code",
   "execution_count": null,
   "id": "fdfd3fe8",
   "metadata": {},
   "outputs": [],
   "source": [
    "# Get the mean gdp per capita for each income_group\n"
   ]
  },
  {
   "cell_type": "markdown",
   "id": "fdbb78d0-4862-4bc6-a245-7f607532b407",
   "metadata": {},
   "source": [
    "### Applying Functions\n",
    "\n",
    "#### Applying a function element-wise with `map()`"
   ]
  },
  {
   "cell_type": "code",
   "execution_count": null,
   "id": "48aa4be1",
   "metadata": {},
   "outputs": [],
   "source": [
    "# Convert income_group to uppercase using map()\n"
   ]
  },
  {
   "cell_type": "markdown",
   "id": "c7e4a334-75e1-402b-a6b4-4d4a365feb5a",
   "metadata": {},
   "source": [
    "#### Applying a Function to Groups with `groupby()` and `agg()`"
   ]
  },
  {
   "cell_type": "code",
   "execution_count": null,
   "id": "98b7c84d",
   "metadata": {},
   "outputs": [],
   "source": [
    "# Calculate the median gdp_percapita and inflation_rate for each income_group\n"
   ]
  },
  {
   "cell_type": "markdown",
   "id": "9e83b4f4-f399-4cd9-99d9-e23cc37c2930",
   "metadata": {},
   "source": [
    "### Summary tables"
   ]
  },
  {
   "cell_type": "code",
   "execution_count": null,
   "id": "dae68662",
   "metadata": {},
   "outputs": [],
   "source": [
    "# Create a pivot table of gdp_percapita and inflation_rate \n",
    "# by income_group and year\n"
   ]
  },
  {
   "cell_type": "markdown",
   "id": "ad492552-e870-412b-be26-521b2f32fc24",
   "metadata": {},
   "source": [
    "### Analyzing categorical data\n",
    "\n",
    "#### Using cross-tabulation"
   ]
  },
  {
   "cell_type": "code",
   "execution_count": null,
   "id": "2372b56e",
   "metadata": {},
   "outputs": [],
   "source": [
    "# Show counts of income_group by year\n"
   ]
  },
  {
   "cell_type": "markdown",
   "id": "1b349c4a-f4b4-4518-ac30-168c1b66e0e3",
   "metadata": {},
   "source": [
    "#### By getting group counts"
   ]
  },
  {
   "cell_type": "code",
   "execution_count": null,
   "id": "ec73a91a",
   "metadata": {},
   "outputs": [],
   "source": [
    "# Count the occurrences of each income_group\n"
   ]
  },
  {
   "cell_type": "markdown",
   "id": "046c1475-35fe-469e-aeb3-52c72d943e34",
   "metadata": {},
   "source": [
    "## Exercise #3: Summarizing Data with Pandas\n",
    "\n",
    "### Grouping Data"
   ]
  },
  {
   "cell_type": "code",
   "execution_count": null,
   "id": "feff64b3",
   "metadata": {},
   "outputs": [],
   "source": [
    "# Group data by continent and calculate the mean life expectancy"
   ]
  },
  {
   "cell_type": "markdown",
   "id": "34b754b2-f4cf-43bf-89db-76c02d744a71",
   "metadata": {},
   "source": [
    "### Applying Functions\n",
    "\n",
    "#### Applying a function element-wise with `map()`"
   ]
  },
  {
   "cell_type": "code",
   "execution_count": null,
   "id": "650b49cf",
   "metadata": {},
   "outputs": [],
   "source": [
    "# Convert continent to uppercase using map()\n"
   ]
  },
  {
   "cell_type": "markdown",
   "id": "44d2bcb1-8037-42fd-a76d-fcda6309c1e2",
   "metadata": {},
   "source": [
    "#### Applying a function to groups with `groupby()` and `agg()`"
   ]
  },
  {
   "cell_type": "code",
   "execution_count": null,
   "id": "0707e42f",
   "metadata": {},
   "outputs": [],
   "source": [
    "# Calculate the median fertility rate and life expectancy for each continent\n"
   ]
  },
  {
   "cell_type": "markdown",
   "id": "c0cfea72-7988-41ca-8d13-7c955de79df0",
   "metadata": {},
   "source": [
    "### Summary Tables"
   ]
  },
  {
   "cell_type": "code",
   "execution_count": null,
   "id": "0f7cdc1d",
   "metadata": {},
   "outputs": [],
   "source": [
    "# Create a pivot table of fertility rate and life expectancy by continent and year\n"
   ]
  },
  {
   "cell_type": "markdown",
   "id": "8427b1a9-f793-420b-a77d-1c0c5677657c",
   "metadata": {},
   "source": [
    "### Analyzing Categorical Data\n",
    "\n",
    "#### Using Cross-Tabulation"
   ]
  },
  {
   "cell_type": "code",
   "execution_count": null,
   "id": "addf2cde",
   "metadata": {},
   "outputs": [],
   "source": [
    "# Create a cross-tabulation of continent and year\n"
   ]
  },
  {
   "cell_type": "markdown",
   "id": "cad94d34-d4b7-4a0e-8654-1049d4732e25",
   "metadata": {},
   "source": [
    "#### By Getting Group Counts"
   ]
  },
  {
   "cell_type": "code",
   "execution_count": null,
   "id": "dacb9205",
   "metadata": {},
   "outputs": [],
   "source": [
    "# Count the occurrences of each region\n"
   ]
  },
  {
   "cell_type": "markdown",
   "id": "523d9978-7860-41f5-b265-b19107935917",
   "metadata": {},
   "source": [
    "------------------------------------------------------------------------\n",
    "\n",
    "# Module 3: Exploring and Learning from Mistakes\n",
    "\n",
    "Use the provided prompt as your initial guide. Here are 20 Python errors\n",
    "that you’ll attempt to use LLMs to help you debug. Make sure to run the\n",
    "code in Jupyter first and then try to debug!\n",
    "\n",
    "## Walkthrough and Exercise #4: Debug with GenAI\n",
    "\n",
    "### 1"
   ]
  },
  {
   "cell_type": "code",
   "execution_count": null,
   "id": "41c0d38c",
   "metadata": {},
   "outputs": [],
   "source": [
    "populations.head"
   ]
  },
  {
   "cell_type": "markdown",
   "id": "b88c0e44-e1d9-41ca-b399-863ea979b791",
   "metadata": {},
   "source": [
    "### 2"
   ]
  },
  {
   "cell_type": "code",
   "execution_count": null,
   "id": "92bb52ce",
   "metadata": {},
   "outputs": [],
   "source": [
    "populations.size.mean()"
   ]
  },
  {
   "cell_type": "markdown",
   "id": "61b20cdd-1e77-4cbc-aec3-a1ce7c90d7e6",
   "metadata": {},
   "source": [
    "### 3"
   ]
  },
  {
   "cell_type": "code",
   "execution_count": null,
   "id": "2ee8304b",
   "metadata": {},
   "outputs": [],
   "source": [
    "populations['Life_Expectancy'].mean()"
   ]
  },
  {
   "cell_type": "markdown",
   "id": "dadb70d6-0536-475a-a1cb-b8c1d29040bd",
   "metadata": {},
   "source": [
    "### 4"
   ]
  },
  {
   "cell_type": "code",
   "execution_count": null,
   "id": "addb0477",
   "metadata": {},
   "outputs": [],
   "source": [
    "asia = populations[populations['continent'] = 'Asia']"
   ]
  },
  {
   "cell_type": "markdown",
   "id": "6fc359a5-7bb0-49eb-a502-8c30fb7143fb",
   "metadata": {},
   "source": [
    "### 5"
   ]
  },
  {
   "cell_type": "code",
   "execution_count": null,
   "id": "7b2543c6",
   "metadata": {},
   "outputs": [],
   "source": [
    "populations[populations['continent'] == 'Asia' & populations['year'] == 2020]"
   ]
  },
  {
   "cell_type": "markdown",
   "id": "c6c0dba7-395f-46d6-87e9-a037c51e4e2b",
   "metadata": {},
   "source": [
    "### 6"
   ]
  },
  {
   "cell_type": "code",
   "execution_count": null,
   "id": "1b3a2d36",
   "metadata": {},
   "outputs": [],
   "source": [
    "populations[populations['population_size'] > 1_000_000]"
   ]
  },
  {
   "cell_type": "markdown",
   "id": "3628cabe-c5c8-4399-9882-884af6b91af6",
   "metadata": {},
   "source": [
    "### 7"
   ]
  },
  {
   "cell_type": "code",
   "execution_count": null,
   "id": "bf88589d",
   "metadata": {},
   "outputs": [],
   "source": [
    "populations['double_size'] = populations['size'].apply(lambda x: x * 2, axis=1)"
   ]
  },
  {
   "cell_type": "markdown",
   "id": "c880e08d-9ed5-45fe-a8bf-e87ae1e97bb4",
   "metadata": {},
   "source": [
    "### 8"
   ]
  },
  {
   "cell_type": "code",
   "execution_count": null,
   "id": "d7861fad",
   "metadata": {},
   "outputs": [],
   "source": [
    "populations['fertility_rate'].fillna(0)"
   ]
  },
  {
   "cell_type": "markdown",
   "id": "32241501-1457-450b-b7de-111e35376881",
   "metadata": {},
   "source": [
    "------------------------------------------------------------------------\n",
    "\n",
    "# *Day 2: Visualize to Tell*\n",
    "\n",
    "------------------------------------------------------------------------\n",
    "\n",
    "# Module 4: Data Visualization Basics with Matplotlib and Seaborn\n",
    "\n",
    "## Walkthrough #5: Data Visualization Techniques\n",
    "\n",
    "### Line plot with Matplotlib"
   ]
  },
  {
   "cell_type": "code",
   "execution_count": null,
   "id": "56c7517d",
   "metadata": {},
   "outputs": [],
   "source": [
    "# Filter data for a specific country\n",
    "\n",
    "\n",
    "# Line plot of gdp_percapita over the years\n"
   ]
  },
  {
   "cell_type": "markdown",
   "id": "586c98e4-074c-4c71-b76d-a1cd68347a3b",
   "metadata": {},
   "source": [
    "### Bar chart with Matplotlib"
   ]
  },
  {
   "cell_type": "code",
   "execution_count": null,
   "id": "125cf6d6",
   "metadata": {},
   "outputs": [],
   "source": [
    "# Filter data for Caribbean countries and the year 2020\n",
    "\n",
    "\n",
    "\n",
    "# Bar chart of gdp_percapita for different Caribbean countries in 2020\n",
    "\n",
    "\n",
    "\n",
    "\n",
    "\n",
    "\n",
    "\n",
    "# Horizontal version\n"
   ]
  },
  {
   "cell_type": "markdown",
   "id": "07a977dc-45c6-4640-b098-8278b5635ba1",
   "metadata": {},
   "source": [
    "### Adding labels and titles"
   ]
  },
  {
   "cell_type": "code",
   "execution_count": null,
   "id": "5882298f",
   "metadata": {},
   "outputs": [],
   "source": [
    "# Filter data for a specific country\n",
    "\n",
    "\n",
    "# Line plot of gdp_percapita over the years with labels and titles\n"
   ]
  },
  {
   "cell_type": "markdown",
   "id": "d2819b09-49bd-496e-a709-293d8aedd898",
   "metadata": {},
   "source": [
    "### Adjusting axes and tick marks"
   ]
  },
  {
   "cell_type": "code",
   "execution_count": null,
   "id": "b9a8d3a7",
   "metadata": {},
   "outputs": [],
   "source": [
    "# Bar chart of gdp_percapita for different Caribbean countries in 2020 with \n",
    "# adjusted axes and tick marks\n",
    "\n",
    "\n",
    "\n",
    "\n",
    "\n",
    "\n",
    "# Adjust axes\n",
    "\n",
    "\n",
    "# Adjust tick marks\n"
   ]
  },
  {
   "cell_type": "markdown",
   "id": "a9b76565-5be6-41ad-8f9b-296abb9fc095",
   "metadata": {},
   "source": [
    "### Histogram with Seaborn"
   ]
  },
  {
   "cell_type": "code",
   "execution_count": null,
   "id": "ed09b257",
   "metadata": {},
   "outputs": [],
   "source": [
    "# Histogram of gdp_percapita\n"
   ]
  },
  {
   "cell_type": "markdown",
   "id": "7b610a50-233e-4452-924f-10c977800119",
   "metadata": {},
   "source": [
    "### Boxplot with Seaborn"
   ]
  },
  {
   "cell_type": "code",
   "execution_count": null,
   "id": "a45019fc",
   "metadata": {},
   "outputs": [],
   "source": [
    "# Boxplot of gdp_percapita by income_group\n"
   ]
  },
  {
   "cell_type": "markdown",
   "id": "0de1f87c-711e-46de-a178-7d1191ace4c5",
   "metadata": {},
   "source": [
    "### Violin plot with Seaborn"
   ]
  },
  {
   "cell_type": "code",
   "execution_count": null,
   "id": "3adbdad2",
   "metadata": {},
   "outputs": [],
   "source": [
    "# Violin plot of gdp_percapita by income_group\n"
   ]
  },
  {
   "cell_type": "markdown",
   "id": "0457ed69-ff9a-4b98-abfb-6647b07f23c0",
   "metadata": {},
   "source": [
    "## Exercise #5: Data Visualization Techniques\n",
    "\n",
    "### Line Plot with Matplotlib"
   ]
  },
  {
   "cell_type": "code",
   "execution_count": null,
   "id": "6a729bd3",
   "metadata": {},
   "outputs": [],
   "source": [
    "# Filter data for India\n",
    "\n",
    "\n",
    "# Line plot of fertility rate over the years\n"
   ]
  },
  {
   "cell_type": "markdown",
   "id": "845f7455-51a0-4720-93fe-d3c140255be1",
   "metadata": {},
   "source": [
    "### Bar Chart with Matplotlib"
   ]
  },
  {
   "cell_type": "code",
   "execution_count": null,
   "id": "45200bec",
   "metadata": {},
   "outputs": [],
   "source": [
    "# Filter data for selected Asian countries and the year 2020\n",
    "asian_countries = ['CHN', 'IND', 'IDN', 'PAK', 'BGD']\n",
    "\n",
    "\n",
    "# Bar chart of population size for selected Asian countries in 2020\n"
   ]
  },
  {
   "cell_type": "markdown",
   "id": "b1a32275-0d8c-43c5-a4a8-abea8e7df84b",
   "metadata": {},
   "source": [
    "### Adding Labels and Titles"
   ]
  },
  {
   "cell_type": "code",
   "execution_count": null,
   "id": "2c96210c",
   "metadata": {},
   "outputs": [],
   "source": [
    "# Filter data for Nigeria\n",
    "\n",
    "\n",
    "# Line plot of life expectancy over the years with labels and titles\n"
   ]
  },
  {
   "cell_type": "markdown",
   "id": "e9ad2caa-679d-4f1e-a511-cfb7480690f6",
   "metadata": {},
   "source": [
    "### Adjusting Axes and Tick Marks"
   ]
  },
  {
   "cell_type": "code",
   "execution_count": null,
   "id": "a84ac298",
   "metadata": {},
   "outputs": [],
   "source": [
    "# Filter data for selected African countries ('NGA', 'ETH', 'EGY', 'ZAF', 'DZA')\n",
    "# and the year 2020\n",
    "african_countries = ['NGA', 'ETH', 'EGY', 'ZAF', 'DZA']\n",
    "\n",
    "\n",
    "# Bar chart of fertility rate for selected African countries in 2020 with \n",
    "# adjusted axes and tick marks\n",
    "\n",
    "\n",
    "\n",
    "\n",
    "\n",
    "\n",
    "# Adjust axes\n",
    "\n",
    "\n",
    "# Adjust tick marks\n"
   ]
  },
  {
   "cell_type": "markdown",
   "id": "e25a5497-ec24-4b28-a1bb-8b2cead5f090",
   "metadata": {},
   "source": [
    "### Histogram with Seaborn"
   ]
  },
  {
   "cell_type": "code",
   "execution_count": null,
   "id": "a0adaec9",
   "metadata": {},
   "outputs": [],
   "source": [
    "# Histogram of life expectancy\n"
   ]
  },
  {
   "cell_type": "markdown",
   "id": "bf361573-d46f-41e1-b086-2fdae0c9614a",
   "metadata": {},
   "source": [
    "### Boxplot with Seaborn"
   ]
  },
  {
   "cell_type": "code",
   "execution_count": null,
   "id": "44da2d0a",
   "metadata": {},
   "outputs": [],
   "source": [
    "# Boxplot of fertility rate by continent\n"
   ]
  },
  {
   "cell_type": "markdown",
   "id": "39690c9d-8bc2-476d-abf4-8a0526b09317",
   "metadata": {},
   "source": [
    "### Violin Plot with Seaborn"
   ]
  },
  {
   "cell_type": "code",
   "execution_count": null,
   "id": "41526907",
   "metadata": {},
   "outputs": [],
   "source": [
    "# Violin plot of fertility rate by continent\n"
   ]
  },
  {
   "cell_type": "markdown",
   "id": "477d70aa-af3a-4a21-8751-a34b2a7d907b",
   "metadata": {},
   "source": [
    "------------------------------------------------------------------------\n",
    "\n",
    "# Module 5: Interactive Data Visualization with Plotly\n",
    "\n",
    "## Walkthrough #6: Interactive Charts and Dashboards with Plotly\n",
    "\n",
    "### Basic interactive chart"
   ]
  },
  {
   "cell_type": "code",
   "execution_count": null,
   "id": "48b35be5",
   "metadata": {},
   "outputs": [],
   "source": [
    "# Filter data for a specific country\n",
    "\n",
    "\n",
    "# Create an interactive line chart\n"
   ]
  },
  {
   "cell_type": "markdown",
   "id": "2ff942d6-92f7-427c-96c1-a26a48d2ef48",
   "metadata": {},
   "source": [
    "### Adding interactive elements"
   ]
  },
  {
   "cell_type": "code",
   "execution_count": null,
   "id": "c1c2bf0a",
   "metadata": {},
   "outputs": [],
   "source": [
    "# Create an interactive scatter plot\n",
    "\n",
    "\n",
    "\n",
    "\n",
    "\n",
    "# Add hover, zoom, and selection tools\n"
   ]
  },
  {
   "cell_type": "markdown",
   "id": "80d9466f-f104-44c1-9780-05daa3d63cbd",
   "metadata": {},
   "source": [
    "### Designing a simple dashboard"
   ]
  },
  {
   "cell_type": "code",
   "execution_count": null,
   "id": "e97e3d17",
   "metadata": {},
   "outputs": [],
   "source": [
    "# Filter data for the year 2020\n",
    "\n",
    "\n",
    "# Create a subplot figure with 1 row and 2 columns\n",
    "\n",
    "\n",
    "\n",
    "\n",
    "\n",
    "# Line chart of GDP Per Capita for Afghanistan\n",
    "\n",
    "\n",
    "\n",
    "\n",
    "\n",
    "# Bar chart of GDP Per Capita for different countries in 2020\n",
    "\n",
    "\n",
    "\n",
    "\n",
    "# Update layout\n"
   ]
  },
  {
   "cell_type": "markdown",
   "id": "c5cef507-6ee0-4990-9f54-c9d5b97bdbd4",
   "metadata": {},
   "source": [
    "## Exercise #6: Interactive Charts and Dashboards with Plotly\n",
    "\n",
    "### Basic Interactive Chart"
   ]
  },
  {
   "cell_type": "code",
   "execution_count": null,
   "id": "989d8de0",
   "metadata": {},
   "outputs": [],
   "source": [
    "# Filter data for a specific country (Brazil)\n",
    "\n",
    "\n",
    "# Create an interactive line chart (Fertility Rate Over Years)\n"
   ]
  },
  {
   "cell_type": "markdown",
   "id": "5f19ce4d-aca6-4c5c-8e5e-84022aaf01d7",
   "metadata": {},
   "source": [
    "### Adding Interactive Elements"
   ]
  },
  {
   "cell_type": "code",
   "execution_count": null,
   "id": "70787325",
   "metadata": {},
   "outputs": [],
   "source": [
    "# Create an interactive scatter plot\n",
    "\n",
    "\n",
    "\n",
    "\n",
    "\n",
    "# Add hover, zoom, and selection tools\n"
   ]
  },
  {
   "cell_type": "markdown",
   "id": "a7fe41ab-cdee-4d17-ba45-9a8c8e1c81eb",
   "metadata": {},
   "source": [
    "### Designing a Simple Dashboard"
   ]
  },
  {
   "cell_type": "code",
   "execution_count": null,
   "id": "4112feab",
   "metadata": {},
   "outputs": [],
   "source": [
    "# Filter data for the year 2020\n",
    "\n",
    "\n",
    "# Create a subplot figure with 1 row and 2 columns\n",
    "\n",
    "\n",
    "\n",
    "\n",
    "\n",
    "# Line chart of Life Expectancy for Brazil\n",
    "\n",
    "\n",
    "\n",
    "\n",
    "\n",
    "# Bar chart of Life Expectancy for South American countries in 2020\n",
    "\n",
    "\n",
    "\n",
    "\n",
    "\n",
    "# Update layout to add a title and hide the legend\n"
   ]
  }
 ],
 "metadata": {
  "kernelspec": {
   "display_name": "Python 3 (ipykernel)",
   "language": "python",
   "name": "python3"
  },
  "language_info": {
   "codemirror_mode": {
    "name": "ipython",
    "version": 3
   },
   "file_extension": ".py",
   "mimetype": "text/x-python",
   "name": "python",
   "nbconvert_exporter": "python",
   "pygments_lexer": "ipython3",
   "version": "3.9.6"
  }
 },
 "nbformat": 4,
 "nbformat_minor": 5
}
